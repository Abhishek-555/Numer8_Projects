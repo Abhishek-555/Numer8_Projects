{
 "cells": [
  {
   "cell_type": "code",
   "execution_count": 1,
   "metadata": {
    "collapsed": true
   },
   "outputs": [],
   "source": [
    "from bs4 import BeautifulSoup as soup#bs is for scraping\n",
    "from urllib.request import urlopen as uReq#urllib is used to acess the urllink,request will help in communicating with webpage and urlopen will open"
   ]
  },
  {
   "cell_type": "code",
   "execution_count": 2,
   "metadata": {
    "collapsed": true
   },
   "outputs": [],
   "source": [
    "my_url='https://www.flipkart.com/search?q=iphone%206&otracker=search&otracker1=search&marketplace=FLIPKART&as-show=on&as=off'"
   ]
  },
  {
   "cell_type": "code",
   "execution_count": 3,
   "metadata": {},
   "outputs": [],
   "source": [
    "uClient=uReq(my_url)# this will conect you to the link\n",
    "page_html=uClient.read()#will read the info  from the page\n",
    "uClient.close()#once the particular info is read we wil close the connection\n",
    "page_soup=soup(page_html,'html.parser')# we parse bcz the htmlcode is too large"
   ]
  },
  {
   "cell_type": "code",
   "execution_count": 4,
   "metadata": {},
   "outputs": [
    {
     "name": "stdout",
     "output_type": "stream",
     "text": [
      "24\n"
     ]
    }
   ],
   "source": [
    "containers=page_soup.findAll('div',{'class':'_3O0U0u'})#finAll will find all the info for div class for the link that we pasted(_3O0U0u')\n",
    "print(len(containers))#no of products on the page of flipkart\n",
    "#till now we only acessed data for one container"
   ]
  },
  {
   "cell_type": "code",
   "execution_count": 5,
   "metadata": {},
   "outputs": [
    {
     "name": "stdout",
     "output_type": "stream",
     "text": [
      "<div class=\"_3O0U0u\">\n",
      " <div data-id=\"MOBETMH3ZYNDPVVC\" style=\"width:100%\">\n",
      "  <div class=\"_1UoZlX\">\n",
      "   <a class=\"_31qSD5\" href=\"/apple-iphone-6-space-grey-32-gb/p/itmetmh3hfhnxtcj?pid=MOBETMH3ZYNDPVVC&amp;srno=s_1_1&amp;otracker=search&amp;lid=LSTMOBETMH3ZYNDPVVC7BAC1S&amp;fm=organic&amp;iid=c4770b12-21ed-4e67-9557-80e47e548b13.MOBETMH3ZYNDPVVC.SEARCH&amp;qH=c5986779727a5087\" rel=\"noopener noreferrer\" target=\"_blank\">\n",
      "    <div class=\"_3RW86r\">\n",
      "     ON OFFER\n",
      "    </div>\n",
      "    <div class=\"_3SQWE6\">\n",
      "     <div class=\"_1OCn9C\">\n",
      "      <div>\n",
      "       <div class=\"_3BTv9X\" style=\"height:200px;width:200px\">\n",
      "        <img alt=\"Apple iPhone 6 (Space Grey, 32 GB)\" class=\"_1Nyybr\" src=\"//img1a.flixcart.com/www/linchpin/fk-cp-zion/img/placeholder_9951d0.svg\"/>\n",
      "       </div>\n",
      "      </div>\n",
      "     </div>\n",
      "     <div class=\"_2lesQu\">\n",
      "      <div class=\"_1O_CiZ\">\n",
      "       <span class=\"_1iHA1p\">\n",
      "        <div class=\"_2kFyHg\">\n",
      "         <label>\n",
      "          <input class=\"_3uUUD5\" readonly=\"\" type=\"checkbox\"/>\n",
      "          <div class=\"_1p7h2j\">\n",
      "          </div>\n",
      "         </label>\n",
      "        </div>\n",
      "       </span>\n",
      "       <label class=\"_10TB-Q\">\n",
      "        <span>\n",
      "         Add to Compare\n",
      "        </span>\n",
      "       </label>\n",
      "      </div>\n",
      "     </div>\n",
      "     <div class=\"_3gDSOa _32A6AP\">\n",
      "      <div class=\"DsQ2eg\">\n",
      "       <svg class=\"_2oLiqr\" height=\"16\" viewbox=\"0 0 20 16\" width=\"16\" xmlns=\"http://www.w3.org/2000/svg\">\n",
      "        <path class=\"_35Y7Yo\" d=\"M8.695 16.682C4.06 12.382 1 9.536 1 6.065 1 3.219 3.178 1 5.95 1c1.566 0 3.069.746 4.05 1.915C10.981 1.745 12.484 1 14.05 1 16.822 1 19 3.22 19 6.065c0 3.471-3.06 6.316-7.695 10.617L10 17.897l-1.305-1.215z\" fill=\"#2874F0\" fill-rule=\"evenodd\" opacity=\".9\" stroke=\"#FFF\">\n",
      "        </path>\n",
      "       </svg>\n",
      "      </div>\n",
      "     </div>\n",
      "    </div>\n",
      "    <div class=\"_1-2Iqu row\">\n",
      "     <div class=\"col col-7-12\">\n",
      "      <div class=\"_3wU53n\">\n",
      "       Apple iPhone 6 (Space Grey, 32 GB)\n",
      "      </div>\n",
      "      <div class=\"niH0FQ\">\n",
      "       <span class=\"_2_KrJI\" id=\"productRating_LSTMOBETMH3ZYNDPVVC7BAC1S_MOBETMH3ZYNDPVVC_\">\n",
      "        <div class=\"hGSR34 _2beYZw\">\n",
      "         4.4\n",
      "         <!-- -->\n",
      "         ★\n",
      "        </div>\n",
      "       </span>\n",
      "       <span class=\"_38sUEc\">\n",
      "        <span>\n",
      "         <span>\n",
      "          48,860 Ratings\n",
      "         </span>\n",
      "         <span class=\"_1VpSqZ\">\n",
      "          &amp;\n",
      "         </span>\n",
      "         <span>\n",
      "          5,734 Reviews\n",
      "         </span>\n",
      "        </span>\n",
      "       </span>\n",
      "      </div>\n",
      "      <div class=\"_3ULzGw\">\n",
      "       <ul class=\"vFw0gD\">\n",
      "        <li class=\"tVe95H\">\n",
      "         32 GB ROM |\n",
      "        </li>\n",
      "        <li class=\"tVe95H\">\n",
      "         11.94 cm (4.7 inch) Retina HD Display\n",
      "        </li>\n",
      "        <li class=\"tVe95H\">\n",
      "         8MP Rear Camera | 1.2MP Front Camera\n",
      "        </li>\n",
      "        <li class=\"tVe95H\">\n",
      "         Li-Ion Battery\n",
      "        </li>\n",
      "        <li class=\"tVe95H\">\n",
      "         Apple A8 64-bit processor and M8 Motion Co-processor\n",
      "        </li>\n",
      "        <li class=\"tVe95H\">\n",
      "         Brand Warranty of 1 Year\n",
      "        </li>\n",
      "       </ul>\n",
      "      </div>\n",
      "     </div>\n",
      "     <div class=\"col col-5-12 _2o7WAb\">\n",
      "      <div class=\"_6BWGkk\">\n",
      "       <div class=\"_1uv9Cb\">\n",
      "        <div class=\"_1vC4OE _2rQ-NK\">\n",
      "         ₹24,999\n",
      "        </div>\n",
      "        <div class=\"_3auQ3N _2GcJzG\">\n",
      "         ₹\n",
      "         <!-- -->\n",
      "         30,780\n",
      "        </div>\n",
      "        <div class=\"VGWI6T\">\n",
      "         <span>\n",
      "          18% off\n",
      "         </span>\n",
      "        </div>\n",
      "       </div>\n",
      "      </div>\n",
      "      <div class=\"_3n6o0t\">\n",
      "       <img height=\"21\" src=\"//img1a.flixcart.com/www/linchpin/fk-cp-zion/img/fa_8b4b59.png\"/>\n",
      "      </div>\n",
      "      <div class=\"_3gVem9\">\n",
      "       <span>\n",
      "        Up to\n",
      "        <span class=\"_2xjzPG\">\n",
      "         ₹13,500\n",
      "        </span>\n",
      "        Off on Exchange\n",
      "       </span>\n",
      "      </div>\n",
      "      <div class=\"_3MCpsc\">\n",
      "       EMI starting from\n",
      "       <span class=\"_1JT2XE\">\n",
      "        ₹\n",
      "        <!-- -->\n",
      "        831\n",
      "        <!-- -->\n",
      "        /month\n",
      "       </span>\n",
      "      </div>\n",
      "      <div class=\"OPF9v4 _2WQngC\">\n",
      "       <span class=\"_1xZuAn\">\n",
      "        Offers\n",
      "       </span>\n",
      "       <ul class=\"_3U7997\">\n",
      "        <li class=\"_1ZRRx1\">\n",
      "         No Cost EMI\n",
      "        </li>\n",
      "        <li class=\"_1ZRRx1\">\n",
      "         Special Price\n",
      "        </li>\n",
      "       </ul>\n",
      "      </div>\n",
      "     </div>\n",
      "    </div>\n",
      "   </a>\n",
      "  </div>\n",
      " </div>\n",
      "</div>\n"
     ]
    }
   ],
   "source": [
    "#block.prettify\n",
    "print(soup.prettify(containers[0]))#here we will see html code for 1st index \n",
    "#prettify will give us acess to html in an organised format"
   ]
  },
  {
   "cell_type": "code",
   "execution_count": 6,
   "metadata": {},
   "outputs": [
    {
     "name": "stdout",
     "output_type": "stream",
     "text": [
      "Apple iPhone 6 (Space Grey, 32 GB)\n"
     ]
    }
   ],
   "source": [
    "container=containers[0]\n",
    "print (container.div.img['alt'])#in container there is a div tag in that img has an attribute caled alt that's why it's in square bracket\n",
    "#getting name of the element"
   ]
  },
  {
   "cell_type": "code",
   "execution_count": 7,
   "metadata": {},
   "outputs": [
    {
     "name": "stdout",
     "output_type": "stream",
     "text": [
      "₹24,999₹30,78018% offUp to ₹13,500 Off on ExchangeEMI starting from ₹831/monthOffersNo Cost EMISpecial Price\n"
     ]
    }
   ],
   "source": [
    "price=container.findAll('div',{'class':'+ col-5-12 _2o7WAb'})\n",
    "print(price[0].text)#.text bczwe have many tags such as react symbol but rupess is not included in it thus text "
   ]
  },
  {
   "cell_type": "code",
   "execution_count": 12,
   "metadata": {},
   "outputs": [
    {
     "name": "stdout",
     "output_type": "stream",
     "text": [
      "4.4 ★48,860 Ratings & 5,734 Reviews\n"
     ]
    }
   ],
   "source": [
    "ratings=container.findAll('div',{'class':'niH0FQ'})\n",
    "print(ratings[0].text)"
   ]
  },
  {
   "cell_type": "code",
   "execution_count": 13,
   "metadata": {
    "collapsed": true
   },
   "outputs": [],
   "source": [
    "#getting data into a file\n",
    "filename='products.csv'\n",
    "f=open(filename,'w')"
   ]
  },
  {
   "cell_type": "code",
   "execution_count": 14,
   "metadata": {},
   "outputs": [
    {
     "data": {
      "text/plain": [
       "28"
      ]
     },
     "execution_count": 14,
     "metadata": {},
     "output_type": "execute_result"
    }
   ],
   "source": [
    "headers='Product Name,Pricing,Rating\\n'\n",
    "f.write(headers)"
   ]
  },
  {
   "cell_type": "code",
   "execution_count": 16,
   "metadata": {},
   "outputs": [
    {
     "name": "stdout",
     "output_type": "stream",
     "text": [
      "product_name:Apple iPhone 6 (Space Grey, 32 GB)\n",
      "price:₹24,999₹30,78018% offUp to ₹13,500 Off on ExchangeEMI starting from ₹831/monthOffersNo Cost EMISpecial Price\n",
      "ratings:4.4 ★48,860 Ratings & 5,734 Reviews\n",
      "product_name:Apple iPhone 6 (Gold, 32 GB)\n",
      "price:₹25,999₹30,78015% offUp to ₹13,500 Off on ExchangeEMI starting from ₹864/monthOffersNo Cost EMISpecial Price\n",
      "ratings:4.4 ★48,860 Ratings & 5,734 Reviews\n",
      "product_name:Apple iPhone 6 (Silver, 64 GB)\n",
      "price:₹25,999₹44,99942% offUp to ₹13,500 Off on ExchangeEMI starting from ₹864/monthOffersNo Cost EMISpecial Price\n",
      "ratings:4.6 ★425 Ratings & 48 Reviews\n",
      "product_name:Apple iPhone 6 (Gold, 64 GB)\n",
      "price:₹25,999₹62,50058% offUp to ₹13,500 Off on ExchangeEMI starting from ₹864/monthOffersNo Cost EMISpecial Price\n",
      "ratings:4.6 ★665 Ratings & 69 Reviews\n",
      "product_name:Apple iPhone 6 (Space Grey, 16 GB)\n",
      "price:₹23,999₹36,99035% offEMI starting from ₹798/monthOffersNo Cost EMISpecial Price\n",
      "ratings:4.4 ★71,357 Ratings & 9,292 Reviews\n",
      "product_name:Apple iPhone 6 (Gold, 128 GB)\n",
      "price:₹49,999EMI starting from ₹1661/month\n",
      "ratings:4.6 ★45 Ratings & 4 Reviews\n",
      "product_name:Apple iPhone 6s (Rose Gold, 32 GB)\n",
      "price:₹32,999₹42,90023% offUp to ₹13,500 Off on ExchangeEMI starting from ₹1097/monthOffersNo Cost EMISpecial Price\n",
      "ratings:4.4 ★7,939 Ratings & 919 Reviews\n",
      "product_name:Apple iPhone 6s (Gold, 32 GB)\n",
      "price:₹32,999₹42,90023% offUp to ₹13,500 Off on ExchangeEMI starting from ₹1097/monthOffersNo Cost EMISpecial Price\n",
      "ratings:4.4 ★8,414 Ratings & 1,061 Reviews\n",
      "product_name:Apple iPhone 6s (Space Grey, 32 GB)\n",
      "price:₹32,999₹42,90023% offUp to ₹13,500 Off on ExchangeEMI starting from ₹1097/monthOffersNo Cost EMISpecial Price\n",
      "ratings:4.4 ★12,294 Ratings & 1,461 Reviews\n",
      "product_name:Apple iPhone 6s (Silver, 32 GB)\n",
      "price:₹33,999₹42,90020% offUp to ₹13,500 Off on ExchangeEMI starting from ₹1130/monthOffersNo Cost EMISpecial Price\n",
      "ratings:4.4 ★2,607 Ratings & 388 Reviews\n",
      "product_name:Apple iPhone 6s Plus (Space Grey, 32 GB)\n",
      "price:₹39,999₹49,00018% offUp to ₹13,500 Off on ExchangeEMI starting from ₹1329/monthOffersNo Cost EMISpecial Price\n",
      "ratings:4.5 ★1,599 Ratings & 241 Reviews\n",
      "product_name:Apple iPhone 6s Plus (Rose Gold, 32 GB)\n",
      "price:₹38,999₹49,00020% offUp to ₹13,500 Off on ExchangeEMI starting from ₹1296/monthOffersNo Cost EMISpecial Price\n",
      "ratings:4.4 ★1,698 Ratings & 269 Reviews\n",
      "product_name:Apple iPhone 6s Plus (Gold, 32 GB)\n",
      "price:₹38,999₹49,00020% offUp to ₹13,500 Off on ExchangeEMI starting from ₹1296/monthOffersNo Cost EMISpecial Price\n",
      "ratings:4.4 ★1,675 Ratings & 274 Reviews\n",
      "product_name:Apple iPhone 6s Plus (Silver, 16 GB)\n",
      "price:₹42,990EMI starting from ₹1428/month\n",
      "ratings:4.3 ★420 Ratings & 57 Reviews\n",
      "product_name:Apple iPhone 6s (Rose Gold, 64 GB)\n",
      "price:₹34,999₹49,99930% offUp to ₹13,500 Off on ExchangeEMI starting from ₹1163/monthOffersNo Cost EMISpecial Price\n",
      "ratings:4.6 ★2,305 Ratings & 250 Reviews\n",
      "product_name:Apple iPhone 6s Plus (Silver, 32 GB)\n",
      "price:₹38,999₹49,00020% offUp to ₹13,500 Off on ExchangeEMI starting from ₹1296/monthOffersNo Cost EMISpecial Price\n",
      "ratings:4.5 ★577 Ratings & 80 Reviews\n",
      "product_name:Apple iPhone 6s Plus (Rose Gold, 128 GB)\n",
      "price:₹39,999₹70,00042% offEMI starting from ₹1329/monthOffersNo Cost EMISpecial Price\n",
      "ratings:3.8 ★89 Ratings & 26 Reviews\n",
      "product_name:Apple iPhone 6s (Rose Gold, 16 GB)\n",
      "price:₹31,999₹62,00048% offUp to ₹13,500 Off on ExchangeEMI starting from ₹1063/monthOffersNo Cost EMISpecial Price\n",
      "ratings:4.4 ★4,233 Ratings & 459 Reviews\n",
      "product_name:Apple iPhone 6s Plus (Space Grey, 16 GB)\n",
      "price:₹35,999₹49,99928% offUp to ₹13,500 Off on ExchangeEMI starting from ₹1196/monthOffersNo Cost EMISpecial Price\n",
      "ratings:4.4 ★1,203 Ratings & 182 Reviews\n",
      "product_name:Apple iPhone 6 (Space Grey, 64 GB)\n",
      "price:₹44,999Up to ₹13,500 Off on ExchangeEMI starting from ₹1495/monthOffersNo Cost EMI\n",
      "ratings:4.5 ★1,350 Ratings & 133 Reviews\n",
      "product_name:Apple iPhone 6 (Silver, 16 GB)\n",
      "price:₹36,990Up to ₹13,500 Off on ExchangeEMI starting from ₹1229/monthOffersNo Cost EMI\n",
      "ratings:4.4 ★3,809 Ratings & 401 Reviews\n",
      "product_name:Apple iPhone 6 (Gold, 16 GB)\n",
      "price:₹36,499Up to ₹13,500 Off on ExchangeEMI starting from ₹1213/monthOffersNo Cost EMI\n",
      "ratings:4.5 ★1,780 Ratings & 151 Reviews\n",
      "product_name:Apple iPhone 6 (Silver, 128 GB)\n",
      "price:₹32,999EMI starting from ₹1097/month\n",
      "ratings:4.3 ★6 Ratings & 0 Reviews\n",
      "product_name:Apple iPhone 6 (Grey, 128 GB)\n",
      "price:₹32,999EMI starting from ₹1097/month\n",
      "ratings:3.5 ★15 Ratings & 4 Reviews\n"
     ]
    }
   ],
   "source": [
    "for container in containers:\n",
    "    product_name=container.div.img['alt']\n",
    "    price_container=container.findAll('div',{'class':'col col-5-12 _2o7WAb'})\n",
    "    price=price_container[0].text.strip()#strip will elimate spaces and commas\n",
    "    rating_container=container.findAll('div',{'class':'niH0FQ'})\n",
    "    rating=rating_container[0].text.strip()\n",
    "    print('product_name:'+product_name)\n",
    "    print('price:'+price)\n",
    "    print('ratings:'+rating)"
   ]
  },
  {
   "cell_type": "code",
   "execution_count": 17,
   "metadata": {
    "collapsed": true
   },
   "outputs": [],
   "source": [
    "f.close()"
   ]
  },
  {
   "cell_type": "code",
   "execution_count": null,
   "metadata": {
    "collapsed": true
   },
   "outputs": [],
   "source": []
  },
  {
   "cell_type": "code",
   "execution_count": null,
   "metadata": {
    "collapsed": true
   },
   "outputs": [],
   "source": []
  },
  {
   "cell_type": "code",
   "execution_count": 6,
   "metadata": {},
   "outputs": [
    {
     "name": "stdout",
     "output_type": "stream",
     "text": [
      "Congress stakes claim to form govt in Goa\n"
     ]
    }
   ],
   "source": [
    "# try:\n",
    "#     title=block.a.text\n",
    "# except Exception as e:\n",
    "#     title=None\n",
    "# print(title)"
   ]
  },
  {
   "cell_type": "code",
   "execution_count": 7,
   "metadata": {},
   "outputs": [
    {
     "name": "stdout",
     "output_type": "stream",
     "text": [
      "Congress stakes claim to form govt in Goa\n"
     ]
    }
   ],
   "source": [
    "# for x in page_soup.find_all(class_='top-story'):\n",
    "#     try:\n",
    "#         title=x.a.text\n",
    "#     except Exception as e:\n",
    "#         title=None\n",
    "#     print(title)\n",
    "    "
   ]
  }
 ],
 "metadata": {
  "kernelspec": {
   "display_name": "Python 3",
   "language": "python",
   "name": "python3"
  },
  "language_info": {
   "codemirror_mode": {
    "name": "ipython",
    "version": 3
   },
   "file_extension": ".py",
   "mimetype": "text/x-python",
   "name": "python",
   "nbconvert_exporter": "python",
   "pygments_lexer": "ipython3",
   "version": "3.6.2"
  }
 },
 "nbformat": 4,
 "nbformat_minor": 2
}
