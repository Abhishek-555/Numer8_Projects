{
 "cells": [
  {
   "cell_type": "code",
   "execution_count": 3,
   "metadata": {},
   "outputs": [],
   "source": [
    "# from bs4 import BeautifulSoup as soup\n",
    "# from urllib.request import urlopen as Ureq\n"
   ]
  },
  {
   "cell_type": "code",
   "execution_count": 5,
   "metadata": {},
   "outputs": [
    {
     "ename": "HTTPError",
     "evalue": "HTTP Error 403: Forbidden",
     "output_type": "error",
     "traceback": [
      "\u001b[1;31m---------------------------------------------------------------------------\u001b[0m",
      "\u001b[1;31mHTTPError\u001b[0m                                 Traceback (most recent call last)",
      "\u001b[1;32m<ipython-input-5-a2ced0eda7c3>\u001b[0m in \u001b[0;36m<module>\u001b[1;34m()\u001b[0m\n\u001b[1;32m----> 1\u001b[1;33m \u001b[0mUclient\u001b[0m\u001b[1;33m=\u001b[0m\u001b[0mUreq\u001b[0m\u001b[1;33m(\u001b[0m\u001b[0mmy_url\u001b[0m\u001b[1;33m)\u001b[0m\u001b[1;33m\u001b[0m\u001b[0m\n\u001b[0m\u001b[0;32m      2\u001b[0m \u001b[0mpage_html\u001b[0m\u001b[1;33m=\u001b[0m\u001b[0mUclient\u001b[0m\u001b[1;33m.\u001b[0m\u001b[0mread\u001b[0m\u001b[1;33m(\u001b[0m\u001b[1;33m)\u001b[0m\u001b[1;33m\u001b[0m\u001b[0m\n\u001b[0;32m      3\u001b[0m \u001b[0mUclient\u001b[0m\u001b[1;33m.\u001b[0m\u001b[0mclose\u001b[0m\u001b[1;33m(\u001b[0m\u001b[1;33m)\u001b[0m\u001b[1;33m\u001b[0m\u001b[0m\n\u001b[0;32m      4\u001b[0m \u001b[0mpage_soup\u001b[0m\u001b[1;33m=\u001b[0m\u001b[0msoup\u001b[0m\u001b[1;33m(\u001b[0m\u001b[0mpage_html\u001b[0m\u001b[1;33m,\u001b[0m\u001b[1;34m'html.parser'\u001b[0m\u001b[1;33m)\u001b[0m\u001b[1;33m\u001b[0m\u001b[0m\n",
      "\u001b[1;32m~\\Anaconda3\\lib\\urllib\\request.py\u001b[0m in \u001b[0;36murlopen\u001b[1;34m(url, data, timeout, cafile, capath, cadefault, context)\u001b[0m\n\u001b[0;32m    221\u001b[0m     \u001b[1;32melse\u001b[0m\u001b[1;33m:\u001b[0m\u001b[1;33m\u001b[0m\u001b[0m\n\u001b[0;32m    222\u001b[0m         \u001b[0mopener\u001b[0m \u001b[1;33m=\u001b[0m \u001b[0m_opener\u001b[0m\u001b[1;33m\u001b[0m\u001b[0m\n\u001b[1;32m--> 223\u001b[1;33m     \u001b[1;32mreturn\u001b[0m \u001b[0mopener\u001b[0m\u001b[1;33m.\u001b[0m\u001b[0mopen\u001b[0m\u001b[1;33m(\u001b[0m\u001b[0murl\u001b[0m\u001b[1;33m,\u001b[0m \u001b[0mdata\u001b[0m\u001b[1;33m,\u001b[0m \u001b[0mtimeout\u001b[0m\u001b[1;33m)\u001b[0m\u001b[1;33m\u001b[0m\u001b[0m\n\u001b[0m\u001b[0;32m    224\u001b[0m \u001b[1;33m\u001b[0m\u001b[0m\n\u001b[0;32m    225\u001b[0m \u001b[1;32mdef\u001b[0m \u001b[0minstall_opener\u001b[0m\u001b[1;33m(\u001b[0m\u001b[0mopener\u001b[0m\u001b[1;33m)\u001b[0m\u001b[1;33m:\u001b[0m\u001b[1;33m\u001b[0m\u001b[0m\n",
      "\u001b[1;32m~\\Anaconda3\\lib\\urllib\\request.py\u001b[0m in \u001b[0;36mopen\u001b[1;34m(self, fullurl, data, timeout)\u001b[0m\n\u001b[0;32m    530\u001b[0m         \u001b[1;32mfor\u001b[0m \u001b[0mprocessor\u001b[0m \u001b[1;32min\u001b[0m \u001b[0mself\u001b[0m\u001b[1;33m.\u001b[0m\u001b[0mprocess_response\u001b[0m\u001b[1;33m.\u001b[0m\u001b[0mget\u001b[0m\u001b[1;33m(\u001b[0m\u001b[0mprotocol\u001b[0m\u001b[1;33m,\u001b[0m \u001b[1;33m[\u001b[0m\u001b[1;33m]\u001b[0m\u001b[1;33m)\u001b[0m\u001b[1;33m:\u001b[0m\u001b[1;33m\u001b[0m\u001b[0m\n\u001b[0;32m    531\u001b[0m             \u001b[0mmeth\u001b[0m \u001b[1;33m=\u001b[0m \u001b[0mgetattr\u001b[0m\u001b[1;33m(\u001b[0m\u001b[0mprocessor\u001b[0m\u001b[1;33m,\u001b[0m \u001b[0mmeth_name\u001b[0m\u001b[1;33m)\u001b[0m\u001b[1;33m\u001b[0m\u001b[0m\n\u001b[1;32m--> 532\u001b[1;33m             \u001b[0mresponse\u001b[0m \u001b[1;33m=\u001b[0m \u001b[0mmeth\u001b[0m\u001b[1;33m(\u001b[0m\u001b[0mreq\u001b[0m\u001b[1;33m,\u001b[0m \u001b[0mresponse\u001b[0m\u001b[1;33m)\u001b[0m\u001b[1;33m\u001b[0m\u001b[0m\n\u001b[0m\u001b[0;32m    533\u001b[0m \u001b[1;33m\u001b[0m\u001b[0m\n\u001b[0;32m    534\u001b[0m         \u001b[1;32mreturn\u001b[0m \u001b[0mresponse\u001b[0m\u001b[1;33m\u001b[0m\u001b[0m\n",
      "\u001b[1;32m~\\Anaconda3\\lib\\urllib\\request.py\u001b[0m in \u001b[0;36mhttp_response\u001b[1;34m(self, request, response)\u001b[0m\n\u001b[0;32m    640\u001b[0m         \u001b[1;32mif\u001b[0m \u001b[1;32mnot\u001b[0m \u001b[1;33m(\u001b[0m\u001b[1;36m200\u001b[0m \u001b[1;33m<=\u001b[0m \u001b[0mcode\u001b[0m \u001b[1;33m<\u001b[0m \u001b[1;36m300\u001b[0m\u001b[1;33m)\u001b[0m\u001b[1;33m:\u001b[0m\u001b[1;33m\u001b[0m\u001b[0m\n\u001b[0;32m    641\u001b[0m             response = self.parent.error(\n\u001b[1;32m--> 642\u001b[1;33m                 'http', request, response, code, msg, hdrs)\n\u001b[0m\u001b[0;32m    643\u001b[0m \u001b[1;33m\u001b[0m\u001b[0m\n\u001b[0;32m    644\u001b[0m         \u001b[1;32mreturn\u001b[0m \u001b[0mresponse\u001b[0m\u001b[1;33m\u001b[0m\u001b[0m\n",
      "\u001b[1;32m~\\Anaconda3\\lib\\urllib\\request.py\u001b[0m in \u001b[0;36merror\u001b[1;34m(self, proto, *args)\u001b[0m\n\u001b[0;32m    568\u001b[0m         \u001b[1;32mif\u001b[0m \u001b[0mhttp_err\u001b[0m\u001b[1;33m:\u001b[0m\u001b[1;33m\u001b[0m\u001b[0m\n\u001b[0;32m    569\u001b[0m             \u001b[0margs\u001b[0m \u001b[1;33m=\u001b[0m \u001b[1;33m(\u001b[0m\u001b[0mdict\u001b[0m\u001b[1;33m,\u001b[0m \u001b[1;34m'default'\u001b[0m\u001b[1;33m,\u001b[0m \u001b[1;34m'http_error_default'\u001b[0m\u001b[1;33m)\u001b[0m \u001b[1;33m+\u001b[0m \u001b[0morig_args\u001b[0m\u001b[1;33m\u001b[0m\u001b[0m\n\u001b[1;32m--> 570\u001b[1;33m             \u001b[1;32mreturn\u001b[0m \u001b[0mself\u001b[0m\u001b[1;33m.\u001b[0m\u001b[0m_call_chain\u001b[0m\u001b[1;33m(\u001b[0m\u001b[1;33m*\u001b[0m\u001b[0margs\u001b[0m\u001b[1;33m)\u001b[0m\u001b[1;33m\u001b[0m\u001b[0m\n\u001b[0m\u001b[0;32m    571\u001b[0m \u001b[1;33m\u001b[0m\u001b[0m\n\u001b[0;32m    572\u001b[0m \u001b[1;31m# XXX probably also want an abstract factory that knows when it makes\u001b[0m\u001b[1;33m\u001b[0m\u001b[1;33m\u001b[0m\u001b[0m\n",
      "\u001b[1;32m~\\Anaconda3\\lib\\urllib\\request.py\u001b[0m in \u001b[0;36m_call_chain\u001b[1;34m(self, chain, kind, meth_name, *args)\u001b[0m\n\u001b[0;32m    502\u001b[0m         \u001b[1;32mfor\u001b[0m \u001b[0mhandler\u001b[0m \u001b[1;32min\u001b[0m \u001b[0mhandlers\u001b[0m\u001b[1;33m:\u001b[0m\u001b[1;33m\u001b[0m\u001b[0m\n\u001b[0;32m    503\u001b[0m             \u001b[0mfunc\u001b[0m \u001b[1;33m=\u001b[0m \u001b[0mgetattr\u001b[0m\u001b[1;33m(\u001b[0m\u001b[0mhandler\u001b[0m\u001b[1;33m,\u001b[0m \u001b[0mmeth_name\u001b[0m\u001b[1;33m)\u001b[0m\u001b[1;33m\u001b[0m\u001b[0m\n\u001b[1;32m--> 504\u001b[1;33m             \u001b[0mresult\u001b[0m \u001b[1;33m=\u001b[0m \u001b[0mfunc\u001b[0m\u001b[1;33m(\u001b[0m\u001b[1;33m*\u001b[0m\u001b[0margs\u001b[0m\u001b[1;33m)\u001b[0m\u001b[1;33m\u001b[0m\u001b[0m\n\u001b[0m\u001b[0;32m    505\u001b[0m             \u001b[1;32mif\u001b[0m \u001b[0mresult\u001b[0m \u001b[1;32mis\u001b[0m \u001b[1;32mnot\u001b[0m \u001b[1;32mNone\u001b[0m\u001b[1;33m:\u001b[0m\u001b[1;33m\u001b[0m\u001b[0m\n\u001b[0;32m    506\u001b[0m                 \u001b[1;32mreturn\u001b[0m \u001b[0mresult\u001b[0m\u001b[1;33m\u001b[0m\u001b[0m\n",
      "\u001b[1;32m~\\Anaconda3\\lib\\urllib\\request.py\u001b[0m in \u001b[0;36mhttp_error_default\u001b[1;34m(self, req, fp, code, msg, hdrs)\u001b[0m\n\u001b[0;32m    648\u001b[0m \u001b[1;32mclass\u001b[0m \u001b[0mHTTPDefaultErrorHandler\u001b[0m\u001b[1;33m(\u001b[0m\u001b[0mBaseHandler\u001b[0m\u001b[1;33m)\u001b[0m\u001b[1;33m:\u001b[0m\u001b[1;33m\u001b[0m\u001b[0m\n\u001b[0;32m    649\u001b[0m     \u001b[1;32mdef\u001b[0m \u001b[0mhttp_error_default\u001b[0m\u001b[1;33m(\u001b[0m\u001b[0mself\u001b[0m\u001b[1;33m,\u001b[0m \u001b[0mreq\u001b[0m\u001b[1;33m,\u001b[0m \u001b[0mfp\u001b[0m\u001b[1;33m,\u001b[0m \u001b[0mcode\u001b[0m\u001b[1;33m,\u001b[0m \u001b[0mmsg\u001b[0m\u001b[1;33m,\u001b[0m \u001b[0mhdrs\u001b[0m\u001b[1;33m)\u001b[0m\u001b[1;33m:\u001b[0m\u001b[1;33m\u001b[0m\u001b[0m\n\u001b[1;32m--> 650\u001b[1;33m         \u001b[1;32mraise\u001b[0m \u001b[0mHTTPError\u001b[0m\u001b[1;33m(\u001b[0m\u001b[0mreq\u001b[0m\u001b[1;33m.\u001b[0m\u001b[0mfull_url\u001b[0m\u001b[1;33m,\u001b[0m \u001b[0mcode\u001b[0m\u001b[1;33m,\u001b[0m \u001b[0mmsg\u001b[0m\u001b[1;33m,\u001b[0m \u001b[0mhdrs\u001b[0m\u001b[1;33m,\u001b[0m \u001b[0mfp\u001b[0m\u001b[1;33m)\u001b[0m\u001b[1;33m\u001b[0m\u001b[0m\n\u001b[0m\u001b[0;32m    651\u001b[0m \u001b[1;33m\u001b[0m\u001b[0m\n\u001b[0;32m    652\u001b[0m \u001b[1;32mclass\u001b[0m \u001b[0mHTTPRedirectHandler\u001b[0m\u001b[1;33m(\u001b[0m\u001b[0mBaseHandler\u001b[0m\u001b[1;33m)\u001b[0m\u001b[1;33m:\u001b[0m\u001b[1;33m\u001b[0m\u001b[0m\n",
      "\u001b[1;31mHTTPError\u001b[0m: HTTP Error 403: Forbidden"
     ]
    }
   ],
   "source": [
    "# Uclient=Ureq(my_url)\n",
    "# page_html=Uclient.read()\n",
    "# Uclient.close()\n",
    "# page_soup=soup(page_html,'html.parser')\n"
   ]
  },
  {
   "cell_type": "code",
   "execution_count": 4,
   "metadata": {
    "collapsed": true
   },
   "outputs": [],
   "source": [
    "# my_url='https://www.zomato.com/SmokeHouseDeli-Pali/reviews'"
   ]
  },
  {
   "cell_type": "code",
   "execution_count": null,
   "metadata": {
    "collapsed": true
   },
   "outputs": [],
   "source": [
    "# containers=page_soup.findAll('div',{'class':'res-info-left col-l-11'})\n",
    "# print(len(containers))"
   ]
  },
  {
   "cell_type": "code",
   "execution_count": 39,
   "metadata": {},
   "outputs": [
    {
     "name": "stdout",
     "output_type": "stream",
     "text": [
      "{'location_suggestions': [{'id': 3, 'name': 'Mumbai', 'country_id': 1, 'country_name': 'India', 'country_flag_url': 'https://b.zmtcdn.com/images/countries/flags/country_1.png', 'should_experiment_with': 0, 'discovery_enabled': 0, 'has_new_ad_format': 1, 'is_state': 0, 'state_id': 0, 'state_name': '', 'state_code': ''}], 'status': 'success', 'has_more': 0, 'has_total': 0}\n"
     ]
    }
   ],
   "source": [
    "import json\n",
    "import requests\n",
    "from pprint import pprint\n",
    "locationurl=\"https://developers.zomato.com/api/v2.1/cities?q=Mumbai\"\n",
    "header={'User-agent':'curl/7.43.0','Accept':'application/json','user_key':'7c6baeed8ed8a96e35dac29aeadc4c05'}\n",
    "\n",
    "response=requests.get(locationurl,headers=header)\n",
    "print(response.json())"
   ]
  },
  {
   "cell_type": "code",
   "execution_count": 43,
   "metadata": {},
   "outputs": [
    {
     "name": "stdout",
     "output_type": "stream",
     "text": [
      "{'R': {'res_id': 18210397}, 'apikey': '7c6baeed8ed8a96e35dac29aeadc4c05', 'id': '18210397', 'name': 'Doolally Taproom', 'url': 'https://www.zomato.com/mumbai/doolally-taproom-veera-desai-area?utm_source=api_basic_user&utm_medium=api&utm_campaign=v2.1', 'location': {'address': 'C18-21, Dalia Industrial Estate,Near Fun Republic, Off New Link Road, Veera Desai Area, Mumbai', 'locality': 'Veera Desai Area', 'city': 'Mumbai', 'city_id': 3, 'latitude': '19.1359183000', 'longitude': '72.8330387000', 'zipcode': '', 'country_id': 1, 'locality_verbose': 'Veera Desai Area, Mumbai'}, 'switch_to_order_menu': 0, 'cuisines': 'Finger Food, North Indian', 'average_cost_for_two': 1800, 'price_range': 3, 'currency': 'Rs.', 'offers': [], 'opentable_support': 0, 'is_zomato_book_res': 0, 'mezzo_provider': 'OTHER', 'is_book_form_web_view': 0, 'book_form_web_view_url': '', 'book_again_url': '', 'thumb': 'https://b.zmtcdn.com/data/res_imagery/17754523_CHAIN_328428b4a8607c0e0948651c714818b6.jpg?fit=around%7C200%3A200&crop=200%3A200%3B%2A%2C%2A', 'user_rating': {'aggregate_rating': '4.4', 'rating_text': 'Very Good', 'rating_color': '5BA829', 'votes': '1777'}, 'photos_url': 'https://www.zomato.com/mumbai/doolally-taproom-veera-desai-area/photos?utm_source=api_basic_user&utm_medium=api&utm_campaign=v2.1#tabtop', 'menu_url': 'https://www.zomato.com/mumbai/doolally-taproom-veera-desai-area/menu?utm_source=api_basic_user&utm_medium=api&utm_campaign=v2.1&openSwipeBox=menu&showMinimal=1#tabtop', 'featured_image': 'https://b.zmtcdn.com/data/res_imagery/17754523_CHAIN_328428b4a8607c0e0948651c714818b6.jpg?output-format=webp', 'has_online_delivery': 0, 'is_delivering_now': 0, 'include_bogo_offers': True, 'deeplink': 'zomato://restaurant/18210397', 'is_table_reservation_supported': 0, 'has_table_booking': 0, 'events_url': 'https://www.zomato.com/mumbai/doolally-taproom-veera-desai-area/events#tabtop?utm_source=api_basic_user&utm_medium=api&utm_campaign=v2.1'}\n"
     ]
    }
   ],
   "source": [
    "import json\n",
    "import requests\n",
    "from pprint import pprint\n",
    "locationurl=\"https://developers.zomato.com/api/v2.1/restaurant?res_id=18210397\"\n",
    "header={'User-agent':'curl/7.43.0','Accept':'application/json','user_key':'7c6baeed8ed8a96e35dac29aeadc4c05'}\n",
    "\n",
    "response=requests.get(locationurl,headers=header)\n",
    "print(response.json())"
   ]
  },
  {
   "cell_type": "code",
   "execution_count": 30,
   "metadata": {},
   "outputs": [
    {
     "name": "stdout",
     "output_type": "stream",
     "text": [
      "https://api.zomato.com/v1/reviews.json/4572/user?count=0&apikey=7c6baeed8ed8a96e35dac29aeadc4c05\n"
     ]
    }
   ],
   "source": [
    "print(zomato)"
   ]
  },
  {
   "cell_type": "code",
   "execution_count": 21,
   "metadata": {},
   "outputs": [
    {
     "name": "stdout",
     "output_type": "stream",
     "text": [
      "https://api.zomato.com/v1/reviews.json/4572/user?count=0&apikey=7c6baeed8ed8a96e35dac29aeadc4c05\n"
     ]
    }
   ],
   "source": [
    "print(zomato)"
   ]
  },
  {
   "cell_type": "code",
   "execution_count": 34,
   "metadata": {},
   "outputs": [
    {
     "name": "stdout",
     "output_type": "stream",
     "text": [
      "{'reviewsCount': 10, 'reviewsStart': 0, 'reviewsShown': 10, 'userReviews': [{'review': {'id': '3420021', 'userName': 'Simran Kaur', 'rating': 5, 'rating_5': '4.5000', 'reviewText': 'Nice food and good ambience. Good place to take your family along. After you have done all your shopping, just relax and have a wholesome lunch or dinner. Good Service. Prices are reasonable. The fact that they are present in a food court makes it easy for your group or family to chose whatever they wish to. So, one person can have an indian thali while the other can have burger from mcd.', 'reviewTime': '2014-09-22 04:27:08', 'reviewTimeFriendly': 'Sep 22, 2014', 'timestamp': 1411340228, 'ratingColor': '3F7E00'}}, {'review': {'id': '2089521', 'userName': 'Himanshu Upadhyay', 'rating': 3, 'rating_5': '3.0000', 'reviewText': 'Haldiram is one of my favourite when I want to eat north indian... and you get a lot of option from street foods to fast food and lunch and dinner options also.. my favourite is raj kachori and aloo tikki... I have visited many haldiram stores in delhi but I would say this is the best... its hi genic and with taste. .. once I had chole bathure here... the bathure is non oily and tasty and the same with chole also. ...I really appreciate this.... and none other its poclet friendly', 'reviewTime': '2014-08-10 01:08:15', 'reviewTimeFriendly': 'Aug 10, 2014', 'timestamp': 1407613095, 'ratingColor': 'CDD614'}}, {'review': {'id': '1005177', 'userName': 'Shivani Kapila', 'rating': 4, 'rating_5': '3.5000', 'reviewText': 'Like the veg food of haldiram always !! \\r\\rWe ordered raj kachauri and chole bhature \\r\\rWas good and liked it !', 'reviewTime': '2014-07-13 21:04:17', 'reviewTimeFriendly': 'Jul 13, 2014', 'timestamp': 1405265657, 'ratingColor': '9ACD32'}}, {'review': {'id': '975976', 'userName': 'The Feast That&#039;s Life', 'rating': 4, 'rating_5': '4.0000', 'reviewText': \"If I'm going the vegetarian route in any mall, I normally eat at Haldiram's. The chole bhature here are really tasty. The chole have a spicy, thick gravy and the bhature are not oily, which is great, and they have a little bit of masala stuffing inside. I also really enjoy their thali, which has dal makahni and shahi paneer, which are both very tasty. The roti and lachcha parantha are also nice and crisp. I've tried their pani puri, which is served with 2 different flavoured waters- one the green, spicy one, and the other, the red one (with saunth). You have a choice of atta or suji gol gappas, which are served sealed in a plastic packet. The stuffing of boiled potatoes and chickpeas is served separately. Though both the waters taste good, and there is nothing wrong with the gol gappas, I can somehow never like this style and sophistication while having gol gappas. Foe me, the only way to have them is out on the street, with the vendor handing them over to you one-by-one.\\nTheir south indian menu is also good, with mysore dosa being my favourite. In the beverages, I find the fresh lime soda and the buttermilk to be really refreshing and well made. All the food is always fresh and the service is super fast. If you're at the mall and in the mood for veg, this is a pretty good option.\", 'reviewTime': '2014-07-02 21:32:48', 'reviewTimeFriendly': 'Jul 02, 2014', 'timestamp': 1404316968, 'ratingColor': '5BA829'}}, {'review': {'id': '889346', 'userName': 'Khushboo J Saini', 'rating': 1, 'rating_5': '1.0000', 'reviewText': \"A big no if you are visiting haldirams on weekend... sat or sunday after 9 PM.... staff is too busy... all they need to just fulfill orders anyhow.... meal wasn't value for money..... overcooked curries.... burnt chilli flavor.... spent 750 rs on a meal for two... a thali and rajma chawal meal.... all was yuck.... \\n\\nthough i am a haldiram's fan.. esp on my way to roorkee from delhi, the highway has a haldirams and it serves fresh and great food...\", 'reviewTime': '2014-06-13 12:57:23', 'reviewTimeFriendly': 'Jun 13, 2014', 'timestamp': 1402644443, 'ratingColor': 'CB202D'}}, {'review': {'id': '644770', 'userName': 'Rohit Dev', 'rating': 5, 'rating_5': '5.0000', 'reviewText': 'Healthy, hygienic and sumptuous treats which are ideal during shopping on Tuesdays and Thursdays for otherwise carnivores. The spread from sweets to Thalis is tongue-swaggering.', 'reviewTime': '2014-04-23 06:37:50', 'reviewTimeFriendly': 'Apr 23, 2014', 'timestamp': 1398215270, 'ratingColor': '305D02'}}, {'review': {'id': '471708', 'userName': 'Maansi Malik', 'rating': 3, 'rating_5': '2.5000', 'reviewText': 'I ordered Papri Chaat and Moong Dal Halwa. Food is yummy and spicy. \\n\\nBut the service is ridiculously slow. Serious improvement required here.', 'reviewTime': '2014-02-12 18:08:06', 'reviewTimeFriendly': 'Feb 12, 2014', 'timestamp': 1392208686, 'ratingColor': 'FFBA00'}}, {'review': {'id': '244818', 'userName': 'Maitreyee Lawande', 'rating': 4, 'rating_5': '4.0000', 'reviewText': \"On my extremely short work-trip to Delhi, I wanted to squeeze in having the famous Delhi chat but I was a bit wary. This stems from the fact that a few years back, the end-result of my quest for the parantha wali gali had left me supremely disappointed.\\n\\nSo while looking for some dinner in the mall, I came across Haldirams and remembered it as the place often mentioned for good delhi street food. Tried out 2 key things- the pani-puri and the bhalla papri chat. This time, I wasnt disappointed. The pani-puri with 2 different panis and a sweet chutney was bursting with flavour. I just didn't like the puris which were not crisp but probably thats how they are in Delhi ( had a similar kind of Pani-puri in chandni chowk during the last visit ). The bhalla papri chat was another explosion of flavours and truly satisfied my taste-buds.\\n\\nIt is probably more expensive than street vendors but who cares, its less risky in terms of the taste too. With this, mission delhi chat accomplished.\", 'reviewTime': '2013-07-07 10:28:45', 'reviewTimeFriendly': 'Jul 07, 2013', 'timestamp': 1373173125, 'ratingColor': '5BA829'}}, {'review': {'id': '168533', 'userName': 'Niharika.Loves.To.Eat', 'rating': 3, 'rating_5': '3.0000', 'reviewText': \"If you need a quick, cheap meal with a wide variety of cuisines, then you should head straight to Haldiram's. This is one of the restaurants that has greatly improved over time. It has evolved from a 'halwai' to a restaurant which is extremely careful about taste and hygiene. In fact, I'd say that the latter is one of the major reasons why it is worth frequenting. The food is clean and won't harm your stomach; and is not excessively oily either. \\n\\nThe food is tasty and well-prepared too. It has a consistency across branches; you can be sure of getting the same taste, every time. Plus, the variety is huge. Whatever cuisine you are in the mood for that day, is available here. Their South Indian, i.e. idlis and dosas are light and delicious. Their chhole bhature is even better, with the bhature as huge, golden-brown and puffed up till just the right balloon shape! The naans and daals are again light and perfectly seasoned. And an excellent end to a meal is with a yummy, steaming hot cup of chai, or maybe a sundae or ice creams soda.\\n\\nHaving said that, however, I now want to include all the niggling botherations too. First of all, their South Indian food is extremely tasty, but why on earth are they so stingy with the chutney and sambar? The essence of South Indian cuisine is their renowned generosity with these two items so it is sad they do away with that here. The chutney is given in a miniature plastic cup (about 1/3rd the size of a typical dhaba chai cup!!!) and the sambar in an only slightly bigger one. It is nowhere enough to mop up your entire dosa or pair of idlis. If you request for more, they look at you with a 'how greedy!' expression and grudgingly inch another of the aforementioned tiny plastic cups towards you. \\nNeedless to add after the above, the service needs to improve, and quickly. The servers are somewhat disinterested. It is as if they already realise they are popular enough and so don't really want to go out of their way. Also, the self-service system is bugging. A lot of fast-food and coffee joints have that, but at Haldiram, you take a coupon and then have to stand at each counter amongst a huge crowd, waiting your turn and sometimes having to use your aggressive instincts. And heaven help if you've ordered items from different counters; you will take ages, then have to balance two or three huge trays and weave through the crowd! I believe they should at least offer some convenience. For instance, Nirula's has self-service but they at least give the food on your table. So do most of the coffee joints, but they allow you to sit comfortably while waiting and then call out your name. \\n\\nOn the positive side, the prices are not weep-worthy at all. For a hearty meal for two, you'd have to shell out just about Rs 300-350.\\n\\nTry it if you are prepared to handle the throng!\", 'reviewTime': '2013-04-08 23:09:41', 'reviewTimeFriendly': 'Apr 08, 2013', 'timestamp': 1365442781, 'ratingColor': 'CDD614'}}, {'review': {'id': '10610', 'userName': 'Shashi Prakash', 'rating': 5, 'rating_5': '5.0000', 'reviewText': 'Yummy,must go. Delicious Jalebi and superb Faaluda kulfi like seizzling punjabi. Ahaaaa.', 'reviewTime': '2011-06-24 19:15:29', 'reviewTimeFriendly': 'Jun 24, 2011', 'timestamp': 1308923129, 'ratingColor': '305D02'}}]}\n"
     ]
    }
   ],
   "source": [
    "response = requests.get(zomato)\n",
    "print(response.json())"
   ]
  },
  {
   "cell_type": "code",
   "execution_count": null,
   "metadata": {
    "collapsed": true
   },
   "outputs": [],
   "source": []
  }
 ],
 "metadata": {
  "kernelspec": {
   "display_name": "Python 3",
   "language": "python",
   "name": "python3"
  },
  "language_info": {
   "codemirror_mode": {
    "name": "ipython",
    "version": 3
   },
   "file_extension": ".py",
   "mimetype": "text/x-python",
   "name": "python",
   "nbconvert_exporter": "python",
   "pygments_lexer": "ipython3",
   "version": "3.6.2"
  }
 },
 "nbformat": 4,
 "nbformat_minor": 2
}
